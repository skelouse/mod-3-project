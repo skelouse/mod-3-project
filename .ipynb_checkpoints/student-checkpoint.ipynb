{
 "cells": [
  {
   "cell_type": "markdown",
   "metadata": {
    "toc": true
   },
   "source": [
    "<h1>Table of Contents<span class=\"tocSkip\"></span></h1>\n",
    "<div class=\"toc\"><ul class=\"toc-item\"><li><span><a href=\"#Final-Project-Submission\" data-toc-modified-id=\"Final-Project-Submission-1\"><span class=\"toc-item-num\">1&nbsp;&nbsp;</span>Final Project Submission</a></span></li><li><span><a href=\"#Introduction\" data-toc-modified-id=\"Introduction-2\"><span class=\"toc-item-num\">2&nbsp;&nbsp;</span>Introduction</a></span></li><li><span><a href=\"#Import-data,-libraries,-and-css\" data-toc-modified-id=\"Import-data,-libraries,-and-css-3\"><span class=\"toc-item-num\">3&nbsp;&nbsp;</span>Import data, libraries, and css</a></span><ul class=\"toc-item\"><li><span><a href=\"#Base-Model\" data-toc-modified-id=\"Base-Model-3.1\"><span class=\"toc-item-num\">3.1&nbsp;&nbsp;</span>Base Model</a></span></li><li><span><a href=\"#Cleaning-the-data\" data-toc-modified-id=\"Cleaning-the-data-3.2\"><span class=\"toc-item-num\">3.2&nbsp;&nbsp;</span>Cleaning the data</a></span><ul class=\"toc-item\"><li><span><a href=\"#Change-phone-number-from-nnn-nnn-->-nnn\" data-toc-modified-id=\"Change-phone-number-from-nnn-nnn-->-nnn-3.2.1\"><span class=\"toc-item-num\">3.2.1&nbsp;&nbsp;</span>Change phone number from nnn-nnn -&gt; nnn</a></span></li><li><span><a href=\"#Encode-state,-international-plan,-voice-mail-plan\" data-toc-modified-id=\"Encode-state,-international-plan,-voice-mail-plan-3.2.2\"><span class=\"toc-item-num\">3.2.2&nbsp;&nbsp;</span>Encode state, international plan, voice mail plan</a></span></li><li><span><a href=\"#Fix-class-imbalance-for-training-data\" data-toc-modified-id=\"Fix-class-imbalance-for-training-data-3.2.3\"><span class=\"toc-item-num\">3.2.3&nbsp;&nbsp;</span>Fix class imbalance for training data</a></span></li></ul></li></ul></li><li><span><a href=\"#Finding-the-best-arguments\" data-toc-modified-id=\"Finding-the-best-arguments-4\"><span class=\"toc-item-num\">4&nbsp;&nbsp;</span>Finding the best arguments</a></span><ul class=\"toc-item\"><li><span><a href=\"#kNN-classifier\" data-toc-modified-id=\"kNN-classifier-4.1\"><span class=\"toc-item-num\">4.1&nbsp;&nbsp;</span>kNN classifier</a></span></li><li><span><a href=\"#Random-Forest-Classifier\" data-toc-modified-id=\"Random-Forest-Classifier-4.2\"><span class=\"toc-item-num\">4.2&nbsp;&nbsp;</span>Random Forest Classifier</a></span></li><li><span><a href=\"#Adaboost-Classifier\" data-toc-modified-id=\"Adaboost-Classifier-4.3\"><span class=\"toc-item-num\">4.3&nbsp;&nbsp;</span>Adaboost Classifier</a></span><ul class=\"toc-item\"><li><span><a href=\"#Get-data\" data-toc-modified-id=\"Get-data-4.3.1\"><span class=\"toc-item-num\">4.3.1&nbsp;&nbsp;</span>Get data</a></span></li><li><span><a href=\"#Model\" data-toc-modified-id=\"Model-4.3.2\"><span class=\"toc-item-num\">4.3.2&nbsp;&nbsp;</span>Model</a></span></li></ul></li><li><span><a href=\"#SVC-Classifier\" data-toc-modified-id=\"SVC-Classifier-4.4\"><span class=\"toc-item-num\">4.4&nbsp;&nbsp;</span>SVC Classifier</a></span></li><li><span><a href=\"#Gradient-Boosting-Classifier\" data-toc-modified-id=\"Gradient-Boosting-Classifier-4.5\"><span class=\"toc-item-num\">4.5&nbsp;&nbsp;</span>Gradient Boosting Classifier</a></span></li><li><span><a href=\"#Naked-Stacking-Classifier\" data-toc-modified-id=\"Naked-Stacking-Classifier-4.6\"><span class=\"toc-item-num\">4.6&nbsp;&nbsp;</span>Naked Stacking Classifier</a></span></li><li><span><a href=\"#Stacking-Classifier-with-best\" data-toc-modified-id=\"Stacking-Classifier-with-best-4.7\"><span class=\"toc-item-num\">4.7&nbsp;&nbsp;</span>Stacking Classifier with best</a></span></li></ul></li><li><span><a href=\"#Interpretation\" data-toc-modified-id=\"Interpretation-5\"><span class=\"toc-item-num\">5&nbsp;&nbsp;</span>Interpretation</a></span><ul class=\"toc-item\"><li><span><a href=\"#Feature-Importance\" data-toc-modified-id=\"Feature-Importance-5.1\"><span class=\"toc-item-num\">5.1&nbsp;&nbsp;</span>Feature Importance</a></span></li><li><span><a href=\"#Shap\" data-toc-modified-id=\"Shap-5.2\"><span class=\"toc-item-num\">5.2&nbsp;&nbsp;</span>Shap</a></span><ul class=\"toc-item\"><li><span><a href=\"#X\" data-toc-modified-id=\"X-5.2.1\"><span class=\"toc-item-num\">5.2.1&nbsp;&nbsp;</span>X</a></span></li><li><span><a href=\"#X\" data-toc-modified-id=\"X-5.2.2\"><span class=\"toc-item-num\">5.2.2&nbsp;&nbsp;</span>X</a></span></li><li><span><a href=\"#X\" data-toc-modified-id=\"X-5.2.3\"><span class=\"toc-item-num\">5.2.3&nbsp;&nbsp;</span>X</a></span></li><li><span><a href=\"#Distplot-number-vmail-messages\" data-toc-modified-id=\"Distplot-number-vmail-messages-5.2.4\"><span class=\"toc-item-num\">5.2.4&nbsp;&nbsp;</span>Distplot number vmail messages</a></span></li><li><span><a href=\"#X\" data-toc-modified-id=\"X-5.2.5\"><span class=\"toc-item-num\">5.2.5&nbsp;&nbsp;</span>X</a></span></li><li><span><a href=\"#Interactive-jointplot\" data-toc-modified-id=\"Interactive-jointplot-5.2.6\"><span class=\"toc-item-num\">5.2.6&nbsp;&nbsp;</span>Interactive jointplot</a></span></li><li><span><a href=\"#Map\" data-toc-modified-id=\"Map-5.2.7\"><span class=\"toc-item-num\">5.2.7&nbsp;&nbsp;</span>Map</a></span></li></ul></li><li><span><a href=\"#Linear-Regression-(-Curiosity-)\" data-toc-modified-id=\"Linear-Regression-(-Curiosity-)-5.3\"><span class=\"toc-item-num\">5.3&nbsp;&nbsp;</span>Linear Regression ( Curiosity )</a></span></li></ul></li></ul></div>"
   ]
  },
  {
   "cell_type": "markdown",
   "metadata": {},
   "source": [
    "## Final Project Submission\n",
    "\n",
    "Please fill out:\n",
    "* Student name: Sam Stoltenberg\n",
    "* Student pace: full time\n",
    "* Scheduled project review date/time: \n",
    "* Instructor name: James Irving\n",
    "* Blog post URL:\n",
    "\n",
    "> This project was done with the OSEMN Process\n",
    ">- **O**btain\n",
    "- **S**crub\n",
    "- **E**xplore\n",
    "- **M**odel\n",
    "- I**N**terpret"
   ]
  },
  {
   "cell_type": "markdown",
   "metadata": {
    "ExecuteTime": {
     "end_time": "2020-10-09T01:40:34.551553Z",
     "start_time": "2020-10-09T01:40:34.547553Z"
    }
   },
   "source": [
    "## Introduction\n",
    "> - \n",
    "- \n",
    "- \n"
   ]
  },
  {
   "cell_type": "markdown",
   "metadata": {},
   "source": [
    "## Import data, libraries, and css\n",
    "> - \n",
    "- \n",
    "- "
   ]
  },
  {
   "cell_type": "code",
   "execution_count": 1,
   "metadata": {
    "ExecuteTime": {
     "end_time": "2020-10-09T04:07:22.585680Z",
     "start_time": "2020-10-09T04:07:22.411123Z"
    }
   },
   "outputs": [
    {
     "data": {
      "text/html": [
       "<style>.shadowbox {\n",
       "    width: 40em;\n",
       "    border: 1px solid #333;\n",
       "    box-shadow: 8px 8px 5px #444;\n",
       "    padding: 8px 12px;\n",
       "    background-image: linear-gradient(180deg, black, rgb(107, 88, 88));\n",
       "    color: rgba(243, 218, 74, 0.801);\n",
       "    line-height: 25px;\n",
       "    position: static;\n",
       "}\n",
       "\n",
       "h2 {\n",
       "    width: 45em;\n",
       "    border: 1.5px solid #333;\n",
       "    /*box-shadow: 8px 8px 5px #444;*/\n",
       "    padding: 8px 12px;\n",
       "    background-image: linear-gradient(180deg, #fff, rgb(160, 147, 147));\n",
       "    position: static;\n",
       "}\n",
       "\n",
       "h3 {\n",
       "    width: 45em;\n",
       "    border: 1px solid #333;\n",
       "    /*box-shadow: 8px 8px 5px #444;*/\n",
       "    padding: 8px 12px;\n",
       "    background-image: linear-gradient(180deg, #fff, rgb(160, 147, 147));\n",
       "    position: relative;\n",
       "    right: -13px;\n",
       "}\n",
       "\n",
       "h4 {\n",
       "    width: 45em;\n",
       "    border: 0.5px solid #333;\n",
       "    /*box-shadow: 8px 8px 5px #444;*/\n",
       "    padding: 8px 12px;\n",
       "    background-image: linear-gradient(180deg, #fff, rgb(160, 147, 147));\n",
       "    position: relative;\n",
       "    right: -25px;\n",
       "}\n",
       "\n",
       ".shadow {\n",
       "    width: 45em;\n",
       "    box-shadow: 8px 8px 10px #444;\n",
       "    border: 1px solid silver;\n",
       "    margin-top: 2em;\n",
       "    position: relative;\n",
       "    top: -25px\n",
       "}\n",
       "\n",
       ".package_header {\n",
       "    width: 100%;\n",
       "    background-color: #0e2b59;\n",
       "    color: #ffffff;\n",
       "    font-size: 14px;\n",
       "    text-align: center;\n",
       "    padding-top: 8px;\n",
       "    padding-right: 8px;\n",
       "    padding-bottom: 8px;\n",
       "    padding-left: 8px;\n",
       "}\n",
       "\n",
       "blockquote {\n",
       "    border: 1px groove gray;\n",
       "    background-color: rgb(219, 214, 214);\n",
       "}\n",
       "\n",
       "</style>"
      ],
      "text/plain": [
       "<IPython.core.display.HTML object>"
      ]
     },
     "execution_count": 1,
     "metadata": {},
     "output_type": "execute_result"
    }
   ],
   "source": [
    "import matplotlib as mpl\n",
    "mpl.rcParams['axes.titlesize']='xx-large'\n",
    "mpl.rcParams['xtick.labelsize'] = 13\n",
    "mpl.rcParams['ytick.labelsize'] = 13\n",
    "mpl.rcParams['axes.labelsize'] = 16\n",
    "\n",
    "# Styling notebook\n",
    "from IPython.core.display import HTML\n",
    "def css_styling():\n",
    "    styles = open(\"./styles/custom.css\", \"r\").read()\n",
    "    return HTML(styles)\n",
    "css_styling()"
   ]
  },
  {
   "cell_type": "code",
   "execution_count": 2,
   "metadata": {
    "ExecuteTime": {
     "end_time": "2020-10-09T04:07:24.511219Z",
     "start_time": "2020-10-09T04:07:22.586681Z"
    }
   },
   "outputs": [
    {
     "name": "stderr",
     "output_type": "stream",
     "text": [
      "pandas.util.testing is deprecated. Use the functions in the public API at pandas.testing instead.\n"
     ]
    }
   ],
   "source": [
    "import lime\n",
    "import shap\n",
    "import pandas as pd\n",
    "import numpy as np\n",
    "import matplotlib.pyplot as plt\n",
    "import seaborn as sns\n",
    "\n",
    "from sklearn.pipeline import Pipeline\n",
    "from sklearn.model_selection import GridSearchCV, train_test_split\n",
    "from sklearn.ensemble import RandomForestClassifier, StackingClassifier, AdaBoostClassifier, GradientBoostingClassifier\n",
    "from sklearn.linear_model import LogisticRegressionCV\n",
    "from sklearn.tree import DecisionTreeClassifier\n",
    "from sklearn.metrics import accuracy_score, f1_score, confusion_matrix, recall_score, make_scorer\n",
    "from sklearn.utils import resample\n",
    "from sklearn import svm\n",
    "from sklearn.neighbors import KNeighborsClassifier\n",
    "from sklearn.preprocessing import StandardScaler"
   ]
  },
  {
   "cell_type": "code",
   "execution_count": 3,
   "metadata": {
    "ExecuteTime": {
     "end_time": "2020-10-09T04:07:24.541806Z",
     "start_time": "2020-10-09T04:07:24.512219Z"
    }
   },
   "outputs": [],
   "source": [
    "df = pd.read_csv(\"customer_churn_data.csv\")"
   ]
  },
  {
   "cell_type": "code",
   "execution_count": 4,
   "metadata": {
    "ExecuteTime": {
     "end_time": "2020-10-09T04:07:24.573324Z",
     "start_time": "2020-10-09T04:07:24.542807Z"
    }
   },
   "outputs": [
    {
     "data": {
      "text/html": [
       "<div>\n",
       "<style scoped>\n",
       "    .dataframe tbody tr th:only-of-type {\n",
       "        vertical-align: middle;\n",
       "    }\n",
       "\n",
       "    .dataframe tbody tr th {\n",
       "        vertical-align: top;\n",
       "    }\n",
       "\n",
       "    .dataframe thead th {\n",
       "        text-align: right;\n",
       "    }\n",
       "</style>\n",
       "<table border=\"1\" class=\"dataframe\">\n",
       "  <thead>\n",
       "    <tr style=\"text-align: right;\">\n",
       "      <th></th>\n",
       "      <th>state</th>\n",
       "      <th>account length</th>\n",
       "      <th>area code</th>\n",
       "      <th>phone number</th>\n",
       "      <th>international plan</th>\n",
       "      <th>voice mail plan</th>\n",
       "      <th>number vmail messages</th>\n",
       "      <th>total day minutes</th>\n",
       "      <th>total day calls</th>\n",
       "      <th>total day charge</th>\n",
       "      <th>...</th>\n",
       "      <th>total eve calls</th>\n",
       "      <th>total eve charge</th>\n",
       "      <th>total night minutes</th>\n",
       "      <th>total night calls</th>\n",
       "      <th>total night charge</th>\n",
       "      <th>total intl minutes</th>\n",
       "      <th>total intl calls</th>\n",
       "      <th>total intl charge</th>\n",
       "      <th>customer service calls</th>\n",
       "      <th>churn</th>\n",
       "    </tr>\n",
       "  </thead>\n",
       "  <tbody>\n",
       "    <tr>\n",
       "      <th>0</th>\n",
       "      <td>KS</td>\n",
       "      <td>128</td>\n",
       "      <td>415</td>\n",
       "      <td>382-4657</td>\n",
       "      <td>no</td>\n",
       "      <td>yes</td>\n",
       "      <td>25</td>\n",
       "      <td>265.1</td>\n",
       "      <td>110</td>\n",
       "      <td>45.07</td>\n",
       "      <td>...</td>\n",
       "      <td>99</td>\n",
       "      <td>16.78</td>\n",
       "      <td>244.7</td>\n",
       "      <td>91</td>\n",
       "      <td>11.01</td>\n",
       "      <td>10.0</td>\n",
       "      <td>3</td>\n",
       "      <td>2.70</td>\n",
       "      <td>1</td>\n",
       "      <td>False</td>\n",
       "    </tr>\n",
       "    <tr>\n",
       "      <th>1</th>\n",
       "      <td>OH</td>\n",
       "      <td>107</td>\n",
       "      <td>415</td>\n",
       "      <td>371-7191</td>\n",
       "      <td>no</td>\n",
       "      <td>yes</td>\n",
       "      <td>26</td>\n",
       "      <td>161.6</td>\n",
       "      <td>123</td>\n",
       "      <td>27.47</td>\n",
       "      <td>...</td>\n",
       "      <td>103</td>\n",
       "      <td>16.62</td>\n",
       "      <td>254.4</td>\n",
       "      <td>103</td>\n",
       "      <td>11.45</td>\n",
       "      <td>13.7</td>\n",
       "      <td>3</td>\n",
       "      <td>3.70</td>\n",
       "      <td>1</td>\n",
       "      <td>False</td>\n",
       "    </tr>\n",
       "    <tr>\n",
       "      <th>2</th>\n",
       "      <td>NJ</td>\n",
       "      <td>137</td>\n",
       "      <td>415</td>\n",
       "      <td>358-1921</td>\n",
       "      <td>no</td>\n",
       "      <td>no</td>\n",
       "      <td>0</td>\n",
       "      <td>243.4</td>\n",
       "      <td>114</td>\n",
       "      <td>41.38</td>\n",
       "      <td>...</td>\n",
       "      <td>110</td>\n",
       "      <td>10.30</td>\n",
       "      <td>162.6</td>\n",
       "      <td>104</td>\n",
       "      <td>7.32</td>\n",
       "      <td>12.2</td>\n",
       "      <td>5</td>\n",
       "      <td>3.29</td>\n",
       "      <td>0</td>\n",
       "      <td>False</td>\n",
       "    </tr>\n",
       "    <tr>\n",
       "      <th>3</th>\n",
       "      <td>OH</td>\n",
       "      <td>84</td>\n",
       "      <td>408</td>\n",
       "      <td>375-9999</td>\n",
       "      <td>yes</td>\n",
       "      <td>no</td>\n",
       "      <td>0</td>\n",
       "      <td>299.4</td>\n",
       "      <td>71</td>\n",
       "      <td>50.90</td>\n",
       "      <td>...</td>\n",
       "      <td>88</td>\n",
       "      <td>5.26</td>\n",
       "      <td>196.9</td>\n",
       "      <td>89</td>\n",
       "      <td>8.86</td>\n",
       "      <td>6.6</td>\n",
       "      <td>7</td>\n",
       "      <td>1.78</td>\n",
       "      <td>2</td>\n",
       "      <td>False</td>\n",
       "    </tr>\n",
       "    <tr>\n",
       "      <th>4</th>\n",
       "      <td>OK</td>\n",
       "      <td>75</td>\n",
       "      <td>415</td>\n",
       "      <td>330-6626</td>\n",
       "      <td>yes</td>\n",
       "      <td>no</td>\n",
       "      <td>0</td>\n",
       "      <td>166.7</td>\n",
       "      <td>113</td>\n",
       "      <td>28.34</td>\n",
       "      <td>...</td>\n",
       "      <td>122</td>\n",
       "      <td>12.61</td>\n",
       "      <td>186.9</td>\n",
       "      <td>121</td>\n",
       "      <td>8.41</td>\n",
       "      <td>10.1</td>\n",
       "      <td>3</td>\n",
       "      <td>2.73</td>\n",
       "      <td>3</td>\n",
       "      <td>False</td>\n",
       "    </tr>\n",
       "  </tbody>\n",
       "</table>\n",
       "<p>5 rows × 21 columns</p>\n",
       "</div>"
      ],
      "text/plain": [
       "  state  account length  area code phone number international plan  \\\n",
       "0    KS             128        415     382-4657                 no   \n",
       "1    OH             107        415     371-7191                 no   \n",
       "2    NJ             137        415     358-1921                 no   \n",
       "3    OH              84        408     375-9999                yes   \n",
       "4    OK              75        415     330-6626                yes   \n",
       "\n",
       "  voice mail plan  number vmail messages  total day minutes  total day calls  \\\n",
       "0             yes                     25              265.1              110   \n",
       "1             yes                     26              161.6              123   \n",
       "2              no                      0              243.4              114   \n",
       "3              no                      0              299.4               71   \n",
       "4              no                      0              166.7              113   \n",
       "\n",
       "   total day charge  ...  total eve calls  total eve charge  \\\n",
       "0             45.07  ...               99             16.78   \n",
       "1             27.47  ...              103             16.62   \n",
       "2             41.38  ...              110             10.30   \n",
       "3             50.90  ...               88              5.26   \n",
       "4             28.34  ...              122             12.61   \n",
       "\n",
       "   total night minutes  total night calls  total night charge  \\\n",
       "0                244.7                 91               11.01   \n",
       "1                254.4                103               11.45   \n",
       "2                162.6                104                7.32   \n",
       "3                196.9                 89                8.86   \n",
       "4                186.9                121                8.41   \n",
       "\n",
       "   total intl minutes  total intl calls  total intl charge  \\\n",
       "0                10.0                 3               2.70   \n",
       "1                13.7                 3               3.70   \n",
       "2                12.2                 5               3.29   \n",
       "3                 6.6                 7               1.78   \n",
       "4                10.1                 3               2.73   \n",
       "\n",
       "   customer service calls  churn  \n",
       "0                       1  False  \n",
       "1                       1  False  \n",
       "2                       0  False  \n",
       "3                       2  False  \n",
       "4                       3  False  \n",
       "\n",
       "[5 rows x 21 columns]"
      ]
     },
     "execution_count": 4,
     "metadata": {},
     "output_type": "execute_result"
    }
   ],
   "source": [
    "df.head()"
   ]
  },
  {
   "cell_type": "code",
   "execution_count": 5,
   "metadata": {
    "ExecuteTime": {
     "end_time": "2020-10-09T04:07:24.619324Z",
     "start_time": "2020-10-09T04:07:24.574327Z"
    }
   },
   "outputs": [
    {
     "data": {
      "text/html": [
       "<div>\n",
       "<style scoped>\n",
       "    .dataframe tbody tr th:only-of-type {\n",
       "        vertical-align: middle;\n",
       "    }\n",
       "\n",
       "    .dataframe tbody tr th {\n",
       "        vertical-align: top;\n",
       "    }\n",
       "\n",
       "    .dataframe thead th {\n",
       "        text-align: right;\n",
       "    }\n",
       "</style>\n",
       "<table border=\"1\" class=\"dataframe\">\n",
       "  <thead>\n",
       "    <tr style=\"text-align: right;\">\n",
       "      <th></th>\n",
       "      <th>account length</th>\n",
       "      <th>area code</th>\n",
       "      <th>number vmail messages</th>\n",
       "      <th>total day minutes</th>\n",
       "      <th>total day calls</th>\n",
       "      <th>total day charge</th>\n",
       "      <th>total eve minutes</th>\n",
       "      <th>total eve calls</th>\n",
       "      <th>total eve charge</th>\n",
       "      <th>total night minutes</th>\n",
       "      <th>total night calls</th>\n",
       "      <th>total night charge</th>\n",
       "      <th>total intl minutes</th>\n",
       "      <th>total intl calls</th>\n",
       "      <th>total intl charge</th>\n",
       "      <th>customer service calls</th>\n",
       "    </tr>\n",
       "  </thead>\n",
       "  <tbody>\n",
       "    <tr>\n",
       "      <th>count</th>\n",
       "      <td>3333.000000</td>\n",
       "      <td>3333.000000</td>\n",
       "      <td>3333.000000</td>\n",
       "      <td>3333.000000</td>\n",
       "      <td>3333.000000</td>\n",
       "      <td>3333.000000</td>\n",
       "      <td>3333.000000</td>\n",
       "      <td>3333.000000</td>\n",
       "      <td>3333.000000</td>\n",
       "      <td>3333.000000</td>\n",
       "      <td>3333.000000</td>\n",
       "      <td>3333.000000</td>\n",
       "      <td>3333.000000</td>\n",
       "      <td>3333.000000</td>\n",
       "      <td>3333.000000</td>\n",
       "      <td>3333.000000</td>\n",
       "    </tr>\n",
       "    <tr>\n",
       "      <th>mean</th>\n",
       "      <td>101.064806</td>\n",
       "      <td>437.182418</td>\n",
       "      <td>8.099010</td>\n",
       "      <td>179.775098</td>\n",
       "      <td>100.435644</td>\n",
       "      <td>30.562307</td>\n",
       "      <td>200.980348</td>\n",
       "      <td>100.114311</td>\n",
       "      <td>17.083540</td>\n",
       "      <td>200.872037</td>\n",
       "      <td>100.107711</td>\n",
       "      <td>9.039325</td>\n",
       "      <td>10.237294</td>\n",
       "      <td>4.479448</td>\n",
       "      <td>2.764581</td>\n",
       "      <td>1.562856</td>\n",
       "    </tr>\n",
       "    <tr>\n",
       "      <th>std</th>\n",
       "      <td>39.822106</td>\n",
       "      <td>42.371290</td>\n",
       "      <td>13.688365</td>\n",
       "      <td>54.467389</td>\n",
       "      <td>20.069084</td>\n",
       "      <td>9.259435</td>\n",
       "      <td>50.713844</td>\n",
       "      <td>19.922625</td>\n",
       "      <td>4.310668</td>\n",
       "      <td>50.573847</td>\n",
       "      <td>19.568609</td>\n",
       "      <td>2.275873</td>\n",
       "      <td>2.791840</td>\n",
       "      <td>2.461214</td>\n",
       "      <td>0.753773</td>\n",
       "      <td>1.315491</td>\n",
       "    </tr>\n",
       "    <tr>\n",
       "      <th>min</th>\n",
       "      <td>1.000000</td>\n",
       "      <td>408.000000</td>\n",
       "      <td>0.000000</td>\n",
       "      <td>0.000000</td>\n",
       "      <td>0.000000</td>\n",
       "      <td>0.000000</td>\n",
       "      <td>0.000000</td>\n",
       "      <td>0.000000</td>\n",
       "      <td>0.000000</td>\n",
       "      <td>23.200000</td>\n",
       "      <td>33.000000</td>\n",
       "      <td>1.040000</td>\n",
       "      <td>0.000000</td>\n",
       "      <td>0.000000</td>\n",
       "      <td>0.000000</td>\n",
       "      <td>0.000000</td>\n",
       "    </tr>\n",
       "    <tr>\n",
       "      <th>25%</th>\n",
       "      <td>74.000000</td>\n",
       "      <td>408.000000</td>\n",
       "      <td>0.000000</td>\n",
       "      <td>143.700000</td>\n",
       "      <td>87.000000</td>\n",
       "      <td>24.430000</td>\n",
       "      <td>166.600000</td>\n",
       "      <td>87.000000</td>\n",
       "      <td>14.160000</td>\n",
       "      <td>167.000000</td>\n",
       "      <td>87.000000</td>\n",
       "      <td>7.520000</td>\n",
       "      <td>8.500000</td>\n",
       "      <td>3.000000</td>\n",
       "      <td>2.300000</td>\n",
       "      <td>1.000000</td>\n",
       "    </tr>\n",
       "    <tr>\n",
       "      <th>50%</th>\n",
       "      <td>101.000000</td>\n",
       "      <td>415.000000</td>\n",
       "      <td>0.000000</td>\n",
       "      <td>179.400000</td>\n",
       "      <td>101.000000</td>\n",
       "      <td>30.500000</td>\n",
       "      <td>201.400000</td>\n",
       "      <td>100.000000</td>\n",
       "      <td>17.120000</td>\n",
       "      <td>201.200000</td>\n",
       "      <td>100.000000</td>\n",
       "      <td>9.050000</td>\n",
       "      <td>10.300000</td>\n",
       "      <td>4.000000</td>\n",
       "      <td>2.780000</td>\n",
       "      <td>1.000000</td>\n",
       "    </tr>\n",
       "    <tr>\n",
       "      <th>75%</th>\n",
       "      <td>127.000000</td>\n",
       "      <td>510.000000</td>\n",
       "      <td>20.000000</td>\n",
       "      <td>216.400000</td>\n",
       "      <td>114.000000</td>\n",
       "      <td>36.790000</td>\n",
       "      <td>235.300000</td>\n",
       "      <td>114.000000</td>\n",
       "      <td>20.000000</td>\n",
       "      <td>235.300000</td>\n",
       "      <td>113.000000</td>\n",
       "      <td>10.590000</td>\n",
       "      <td>12.100000</td>\n",
       "      <td>6.000000</td>\n",
       "      <td>3.270000</td>\n",
       "      <td>2.000000</td>\n",
       "    </tr>\n",
       "    <tr>\n",
       "      <th>max</th>\n",
       "      <td>243.000000</td>\n",
       "      <td>510.000000</td>\n",
       "      <td>51.000000</td>\n",
       "      <td>350.800000</td>\n",
       "      <td>165.000000</td>\n",
       "      <td>59.640000</td>\n",
       "      <td>363.700000</td>\n",
       "      <td>170.000000</td>\n",
       "      <td>30.910000</td>\n",
       "      <td>395.000000</td>\n",
       "      <td>175.000000</td>\n",
       "      <td>17.770000</td>\n",
       "      <td>20.000000</td>\n",
       "      <td>20.000000</td>\n",
       "      <td>5.400000</td>\n",
       "      <td>9.000000</td>\n",
       "    </tr>\n",
       "  </tbody>\n",
       "</table>\n",
       "</div>"
      ],
      "text/plain": [
       "       account length    area code  number vmail messages  total day minutes  \\\n",
       "count     3333.000000  3333.000000            3333.000000        3333.000000   \n",
       "mean       101.064806   437.182418               8.099010         179.775098   \n",
       "std         39.822106    42.371290              13.688365          54.467389   \n",
       "min          1.000000   408.000000               0.000000           0.000000   \n",
       "25%         74.000000   408.000000               0.000000         143.700000   \n",
       "50%        101.000000   415.000000               0.000000         179.400000   \n",
       "75%        127.000000   510.000000              20.000000         216.400000   \n",
       "max        243.000000   510.000000              51.000000         350.800000   \n",
       "\n",
       "       total day calls  total day charge  total eve minutes  total eve calls  \\\n",
       "count      3333.000000       3333.000000        3333.000000      3333.000000   \n",
       "mean        100.435644         30.562307         200.980348       100.114311   \n",
       "std          20.069084          9.259435          50.713844        19.922625   \n",
       "min           0.000000          0.000000           0.000000         0.000000   \n",
       "25%          87.000000         24.430000         166.600000        87.000000   \n",
       "50%         101.000000         30.500000         201.400000       100.000000   \n",
       "75%         114.000000         36.790000         235.300000       114.000000   \n",
       "max         165.000000         59.640000         363.700000       170.000000   \n",
       "\n",
       "       total eve charge  total night minutes  total night calls  \\\n",
       "count       3333.000000          3333.000000        3333.000000   \n",
       "mean          17.083540           200.872037         100.107711   \n",
       "std            4.310668            50.573847          19.568609   \n",
       "min            0.000000            23.200000          33.000000   \n",
       "25%           14.160000           167.000000          87.000000   \n",
       "50%           17.120000           201.200000         100.000000   \n",
       "75%           20.000000           235.300000         113.000000   \n",
       "max           30.910000           395.000000         175.000000   \n",
       "\n",
       "       total night charge  total intl minutes  total intl calls  \\\n",
       "count         3333.000000         3333.000000       3333.000000   \n",
       "mean             9.039325           10.237294          4.479448   \n",
       "std              2.275873            2.791840          2.461214   \n",
       "min              1.040000            0.000000          0.000000   \n",
       "25%              7.520000            8.500000          3.000000   \n",
       "50%              9.050000           10.300000          4.000000   \n",
       "75%             10.590000           12.100000          6.000000   \n",
       "max             17.770000           20.000000         20.000000   \n",
       "\n",
       "       total intl charge  customer service calls  \n",
       "count        3333.000000             3333.000000  \n",
       "mean            2.764581                1.562856  \n",
       "std             0.753773                1.315491  \n",
       "min             0.000000                0.000000  \n",
       "25%             2.300000                1.000000  \n",
       "50%             2.780000                1.000000  \n",
       "75%             3.270000                2.000000  \n",
       "max             5.400000                9.000000  "
      ]
     },
     "execution_count": 5,
     "metadata": {},
     "output_type": "execute_result"
    }
   ],
   "source": [
    "df.describe()"
   ]
  },
  {
   "cell_type": "code",
   "execution_count": 6,
   "metadata": {
    "ExecuteTime": {
     "end_time": "2020-10-09T04:07:24.634324Z",
     "start_time": "2020-10-09T04:07:24.620327Z"
    }
   },
   "outputs": [
    {
     "name": "stdout",
     "output_type": "stream",
     "text": [
      "<class 'pandas.core.frame.DataFrame'>\n",
      "RangeIndex: 3333 entries, 0 to 3332\n",
      "Data columns (total 21 columns):\n",
      " #   Column                  Non-Null Count  Dtype  \n",
      "---  ------                  --------------  -----  \n",
      " 0   state                   3333 non-null   object \n",
      " 1   account length          3333 non-null   int64  \n",
      " 2   area code               3333 non-null   int64  \n",
      " 3   phone number            3333 non-null   object \n",
      " 4   international plan      3333 non-null   object \n",
      " 5   voice mail plan         3333 non-null   object \n",
      " 6   number vmail messages   3333 non-null   int64  \n",
      " 7   total day minutes       3333 non-null   float64\n",
      " 8   total day calls         3333 non-null   int64  \n",
      " 9   total day charge        3333 non-null   float64\n",
      " 10  total eve minutes       3333 non-null   float64\n",
      " 11  total eve calls         3333 non-null   int64  \n",
      " 12  total eve charge        3333 non-null   float64\n",
      " 13  total night minutes     3333 non-null   float64\n",
      " 14  total night calls       3333 non-null   int64  \n",
      " 15  total night charge      3333 non-null   float64\n",
      " 16  total intl minutes      3333 non-null   float64\n",
      " 17  total intl calls        3333 non-null   int64  \n",
      " 18  total intl charge       3333 non-null   float64\n",
      " 19  customer service calls  3333 non-null   int64  \n",
      " 20  churn                   3333 non-null   bool   \n",
      "dtypes: bool(1), float64(8), int64(8), object(4)\n",
      "memory usage: 524.2+ KB\n"
     ]
    }
   ],
   "source": [
    "df.info()"
   ]
  },
  {
   "cell_type": "code",
   "execution_count": 7,
   "metadata": {
    "ExecuteTime": {
     "end_time": "2020-10-09T04:07:24.649324Z",
     "start_time": "2020-10-09T04:07:24.635325Z"
    }
   },
   "outputs": [
    {
     "data": {
      "text/plain": [
       "state                           KS\n",
       "account length                 128\n",
       "area code                      415\n",
       "phone number              382-4657\n",
       "international plan              no\n",
       "voice mail plan                yes\n",
       "number vmail messages           25\n",
       "total day minutes            265.1\n",
       "total day calls                110\n",
       "total day charge             45.07\n",
       "total eve minutes            197.4\n",
       "total eve calls                 99\n",
       "total eve charge             16.78\n",
       "total night minutes          244.7\n",
       "total night calls               91\n",
       "total night charge           11.01\n",
       "total intl minutes              10\n",
       "total intl calls                 3\n",
       "total intl charge              2.7\n",
       "customer service calls           1\n",
       "churn                        False\n",
       "Name: 0, dtype: object"
      ]
     },
     "execution_count": 7,
     "metadata": {},
     "output_type": "execute_result"
    }
   ],
   "source": [
    "df.iloc[0]"
   ]
  },
  {
   "cell_type": "code",
   "execution_count": 8,
   "metadata": {
    "ExecuteTime": {
     "end_time": "2020-10-09T04:07:24.665324Z",
     "start_time": "2020-10-09T04:07:24.651325Z"
    }
   },
   "outputs": [
    {
     "data": {
      "text/plain": [
       "False    85.51\n",
       "True     14.49\n",
       "Name: churn, dtype: float64"
      ]
     },
     "execution_count": 8,
     "metadata": {},
     "output_type": "execute_result"
    }
   ],
   "source": [
    "round((df['churn'].value_counts() / len(df)) * 100, 2)"
   ]
  },
  {
   "cell_type": "code",
   "execution_count": 9,
   "metadata": {
    "ExecuteTime": {
     "end_time": "2020-10-09T04:07:24.681324Z",
     "start_time": "2020-10-09T04:07:24.666325Z"
    }
   },
   "outputs": [
    {
     "data": {
      "text/plain": [
       "(3333, 21)"
      ]
     },
     "execution_count": 9,
     "metadata": {},
     "output_type": "execute_result"
    }
   ],
   "source": [
    "df.shape"
   ]
  },
  {
   "cell_type": "markdown",
   "metadata": {},
   "source": [
    "<div class=\"shadow alert alert-warning\">\n",
    "    <b>From the data:</b>\n",
    "        <ul>\n",
    "            <li>There is a large class imbalance of 86% - 14%</li>\n",
    "            <li>There are some columns that need to be dealt with i.e:<ul><li><b>Phone number</b> should be nnn instand of nnn-nnnn, the last four are useless, but the first three are a smaller area code</li>\n",
    "                <li><b>state, international plan</b>, and <b>voice mail plan</b> need to be encoded</li></ul></li>\n",
    "            </ul>\n",
    "    </div>"
   ]
  },
  {
   "cell_type": "markdown",
   "metadata": {
    "ExecuteTime": {
     "end_time": "2020-10-06T16:09:13.446543Z",
     "start_time": "2020-10-06T16:09:13.438545Z"
    }
   },
   "source": [
    "### Base Model\n",
    "> "
   ]
  },
  {
   "cell_type": "code",
   "execution_count": 10,
   "metadata": {
    "ExecuteTime": {
     "end_time": "2020-10-09T04:07:24.697324Z",
     "start_time": "2020-10-09T04:07:24.682325Z"
    }
   },
   "outputs": [],
   "source": [
    "drop_cols = ['phone number', 'state']\n",
    "df_test = df.copy()\n",
    "df_test.drop(drop_cols, axis=1, inplace=True)\n",
    "df_test['international plan'] = df_test['international plan'].map(\n",
    "                                 {'yes': 1, 'no': 0})\n",
    "df_test['voice mail plan'] = df_test['voice mail plan'].map(\n",
    "                                 {'yes': 1, 'no': 0})\n",
    "y = df_test['churn']\n",
    "X = df_test.drop('churn', axis=1)\n",
    "X_train, X_test, y_train, y_test = train_test_split(X, y,\n",
    "                                                    random_state=42,\n",
    "                                                    test_size=.25)"
   ]
  },
  {
   "cell_type": "code",
   "execution_count": 11,
   "metadata": {
    "ExecuteTime": {
     "end_time": "2020-10-09T04:07:24.713326Z",
     "start_time": "2020-10-09T04:07:24.698325Z"
    }
   },
   "outputs": [],
   "source": [
    "\n",
    "params = {\n",
    "    'criterion': ['gini', 'entropy'],\n",
    "    'max_depth': [None, 1, 3, 5, 7]\n",
    "}\n",
    "\n",
    "grid_search = GridSearchCV(DecisionTreeClassifier(), params, scoring='accuracy')"
   ]
  },
  {
   "cell_type": "code",
   "execution_count": 12,
   "metadata": {
    "ExecuteTime": {
     "end_time": "2020-10-09T04:07:25.353324Z",
     "start_time": "2020-10-09T04:07:24.714325Z"
    }
   },
   "outputs": [
    {
     "data": {
      "text/plain": [
       "GridSearchCV(estimator=DecisionTreeClassifier(),\n",
       "             param_grid={'criterion': ['gini', 'entropy'],\n",
       "                         'max_depth': [None, 1, 3, 5, 7]},\n",
       "             scoring='accuracy')"
      ]
     },
     "execution_count": 12,
     "metadata": {},
     "output_type": "execute_result"
    }
   ],
   "source": [
    "grid_search.fit(X_train, y_train)"
   ]
  },
  {
   "cell_type": "code",
   "execution_count": 13,
   "metadata": {
    "ExecuteTime": {
     "end_time": "2020-10-09T04:07:25.368608Z",
     "start_time": "2020-10-09T04:07:25.354325Z"
    }
   },
   "outputs": [
    {
     "data": {
      "text/plain": [
       "0.9427831663326653"
      ]
     },
     "execution_count": 13,
     "metadata": {},
     "output_type": "execute_result"
    }
   ],
   "source": [
    "grid_search.best_score_"
   ]
  },
  {
   "cell_type": "code",
   "execution_count": 14,
   "metadata": {
    "ExecuteTime": {
     "end_time": "2020-10-09T04:07:25.384608Z",
     "start_time": "2020-10-09T04:07:25.369608Z"
    }
   },
   "outputs": [
    {
     "data": {
      "text/plain": [
       "0.9460431654676259"
      ]
     },
     "execution_count": 14,
     "metadata": {},
     "output_type": "execute_result"
    }
   ],
   "source": [
    "preds = grid_search.predict(X_test)\n",
    "acc = accuracy_score(y_test, preds)\n",
    "acc"
   ]
  },
  {
   "cell_type": "code",
   "execution_count": 15,
   "metadata": {
    "ExecuteTime": {
     "end_time": "2020-10-09T04:07:25.524608Z",
     "start_time": "2020-10-09T04:07:25.385609Z"
    }
   },
   "outputs": [
    {
     "data": {
      "text/plain": [
       "<sklearn.metrics._plot.confusion_matrix.ConfusionMatrixDisplay at 0x1b308dc1828>"
      ]
     },
     "execution_count": 15,
     "metadata": {},
     "output_type": "execute_result"
    },
    {
     "data": {
      "image/png": "[encoded data removed]",
      "text/plain": [
       "<Figure size 432x288 with 2 Axes>"
      ]
     },
     "metadata": {
      "needs_background": "light"
     },
     "output_type": "display_data"
    }
   ],
   "source": [
    "from sklearn.metrics import plot_confusion_matrix\n",
    "plot_confusion_matrix(grid_search, X_test, y_test, cmap='Blues')"
   ]
  },
  {
   "cell_type": "markdown",
   "metadata": {},
   "source": [
    "<div class=\"shadow alert alert-warning\">\n",
    "    <b>From the model:</b>\n",
    "        <ul>\n",
    "            <li>Good accuracy at 94.6%</li>\n",
    "            <li>The class imbalance is showing through at 36 churn Trues being predicted as False</li>\n",
    "        </ul>\n",
    "    </div>"
   ]
  },
  {
   "cell_type": "markdown",
   "metadata": {},
   "source": [
    "### Cleaning the data"
   ]
  },
  {
   "cell_type": "code",
   "execution_count": 16,
   "metadata": {
    "ExecuteTime": {
     "end_time": "2020-10-09T04:07:25.540607Z",
     "start_time": "2020-10-09T04:07:25.525609Z"
    }
   },
   "outputs": [],
   "source": [
    "# df = fresh_df.copy()\n",
    "fresh_df = df.copy()  # Keeping the fresh dataframe for future analysis"
   ]
  },
  {
   "cell_type": "markdown",
   "metadata": {},
   "source": [
    "#### Change phone number from nnn-nnn -> nnn\n",
    "> "
   ]
  },
  {
   "cell_type": "code",
   "execution_count": 17,
   "metadata": {
    "ExecuteTime": {
     "end_time": "2020-10-09T04:07:25.556607Z",
     "start_time": "2020-10-09T04:07:25.541609Z"
    }
   },
   "outputs": [],
   "source": [
    "df['phone number'] = df['phone number'].apply(lambda x: x[:3])"
   ]
  },
  {
   "cell_type": "markdown",
   "metadata": {},
   "source": [
    "#### Encode state, international plan, voice mail plan"
   ]
  },
  {
   "cell_type": "code",
   "execution_count": 18,
   "metadata": {
    "ExecuteTime": {
     "end_time": "2020-10-09T04:07:25.572548Z",
     "start_time": "2020-10-09T04:07:25.557608Z"
    }
   },
   "outputs": [],
   "source": [
    "to_be_encoded = ['state', 'international plan', 'voice mail plan']\n",
    "df = pd.get_dummies(df, columns=to_be_encoded, drop_first=True)"
   ]
  },
  {
   "cell_type": "code",
   "execution_count": 19,
   "metadata": {
    "ExecuteTime": {
     "end_time": "2020-10-09T04:07:25.588549Z",
     "start_time": "2020-10-09T04:07:25.573549Z"
    }
   },
   "outputs": [
    {
     "data": {
      "text/plain": [
       "0    2850\n",
       "1     483\n",
       "Name: churn, dtype: int64"
      ]
     },
     "execution_count": 19,
     "metadata": {},
     "output_type": "execute_result"
    }
   ],
   "source": [
    "df['churn'] = df['churn'].map({True: 1, False: 0})\n",
    "df['churn'].value_counts()"
   ]
  },
  {
   "cell_type": "code",
   "execution_count": 20,
   "metadata": {
    "ExecuteTime": {
     "end_time": "2020-10-09T04:07:25.604550Z",
     "start_time": "2020-10-09T04:07:25.590549Z"
    }
   },
   "outputs": [],
   "source": [
    "y = df['churn']\n",
    "X = df.drop('churn', axis=1)\n",
    "X_train, X_test, y_train, y_test = train_test_split(X, y,\n",
    "                                                    test_size=.3,\n",
    "                                                    random_state=42)\n",
    "X_test, X_validation, y_test, y_validation = train_test_split(X_test, y_test,\n",
    "                                                              test_size=.1,\n",
    "                                                              random_state=42)"
   ]
  },
  {
   "cell_type": "code",
   "execution_count": 21,
   "metadata": {
    "ExecuteTime": {
     "end_time": "2020-10-09T04:07:25.620551Z",
     "start_time": "2020-10-09T04:07:25.605550Z"
    }
   },
   "outputs": [
    {
     "data": {
      "text/plain": [
       "((2333, 69), (900, 69), (100, 69))"
      ]
     },
     "execution_count": 21,
     "metadata": {},
     "output_type": "execute_result"
    }
   ],
   "source": [
    "X_train.shape, X_test.shape, X_validation.shape"
   ]
  },
  {
   "cell_type": "markdown",
   "metadata": {
    "ExecuteTime": {
     "end_time": "2020-10-08T09:38:07.425337Z",
     "start_time": "2020-10-08T09:38:07.414338Z"
    }
   },
   "source": [
    "#### Fix class imbalance for training data\n",
    "> (86% - 14%) --> (50% - 50%)"
   ]
  },
  {
   "cell_type": "code",
   "execution_count": 22,
   "metadata": {
    "ExecuteTime": {
     "end_time": "2020-10-09T04:07:25.698550Z",
     "start_time": "2020-10-09T04:07:25.621550Z"
    }
   },
   "outputs": [
    {
     "data": {
      "text/html": [
       "<div>\n",
       "<style scoped>\n",
       "    .dataframe tbody tr th:only-of-type {\n",
       "        vertical-align: middle;\n",
       "    }\n",
       "\n",
       "    .dataframe tbody tr th {\n",
       "        vertical-align: top;\n",
       "    }\n",
       "\n",
       "    .dataframe thead th {\n",
       "        text-align: right;\n",
       "    }\n",
       "</style>\n",
       "<table border=\"1\" class=\"dataframe\">\n",
       "  <thead>\n",
       "    <tr style=\"text-align: right;\">\n",
       "      <th></th>\n",
       "      <th>account length</th>\n",
       "      <th>area code</th>\n",
       "      <th>phone number</th>\n",
       "      <th>number vmail messages</th>\n",
       "      <th>total day minutes</th>\n",
       "      <th>total day calls</th>\n",
       "      <th>total day charge</th>\n",
       "      <th>total eve minutes</th>\n",
       "      <th>total eve calls</th>\n",
       "      <th>total eve charge</th>\n",
       "      <th>...</th>\n",
       "      <th>state_UT</th>\n",
       "      <th>state_VA</th>\n",
       "      <th>state_VT</th>\n",
       "      <th>state_WA</th>\n",
       "      <th>state_WI</th>\n",
       "      <th>state_WV</th>\n",
       "      <th>state_WY</th>\n",
       "      <th>international plan_yes</th>\n",
       "      <th>voice mail plan_yes</th>\n",
       "      <th>churn</th>\n",
       "    </tr>\n",
       "  </thead>\n",
       "  <tbody>\n",
       "    <tr>\n",
       "      <th>2016</th>\n",
       "      <td>80</td>\n",
       "      <td>510</td>\n",
       "      <td>332</td>\n",
       "      <td>0</td>\n",
       "      <td>202.4</td>\n",
       "      <td>118</td>\n",
       "      <td>34.41</td>\n",
       "      <td>260.2</td>\n",
       "      <td>67</td>\n",
       "      <td>22.12</td>\n",
       "      <td>...</td>\n",
       "      <td>0</td>\n",
       "      <td>0</td>\n",
       "      <td>0</td>\n",
       "      <td>0</td>\n",
       "      <td>0</td>\n",
       "      <td>0</td>\n",
       "      <td>0</td>\n",
       "      <td>0</td>\n",
       "      <td>0</td>\n",
       "      <td>0</td>\n",
       "    </tr>\n",
       "    <tr>\n",
       "      <th>1362</th>\n",
       "      <td>63</td>\n",
       "      <td>510</td>\n",
       "      <td>329</td>\n",
       "      <td>0</td>\n",
       "      <td>132.9</td>\n",
       "      <td>122</td>\n",
       "      <td>22.59</td>\n",
       "      <td>67.0</td>\n",
       "      <td>62</td>\n",
       "      <td>5.70</td>\n",
       "      <td>...</td>\n",
       "      <td>0</td>\n",
       "      <td>0</td>\n",
       "      <td>0</td>\n",
       "      <td>0</td>\n",
       "      <td>0</td>\n",
       "      <td>1</td>\n",
       "      <td>0</td>\n",
       "      <td>0</td>\n",
       "      <td>0</td>\n",
       "      <td>0</td>\n",
       "    </tr>\n",
       "    <tr>\n",
       "      <th>2670</th>\n",
       "      <td>116</td>\n",
       "      <td>510</td>\n",
       "      <td>392</td>\n",
       "      <td>12</td>\n",
       "      <td>221.0</td>\n",
       "      <td>108</td>\n",
       "      <td>37.57</td>\n",
       "      <td>151.0</td>\n",
       "      <td>118</td>\n",
       "      <td>12.84</td>\n",
       "      <td>...</td>\n",
       "      <td>0</td>\n",
       "      <td>0</td>\n",
       "      <td>0</td>\n",
       "      <td>0</td>\n",
       "      <td>0</td>\n",
       "      <td>0</td>\n",
       "      <td>1</td>\n",
       "      <td>0</td>\n",
       "      <td>1</td>\n",
       "      <td>0</td>\n",
       "    </tr>\n",
       "    <tr>\n",
       "      <th>2210</th>\n",
       "      <td>71</td>\n",
       "      <td>415</td>\n",
       "      <td>367</td>\n",
       "      <td>0</td>\n",
       "      <td>278.9</td>\n",
       "      <td>110</td>\n",
       "      <td>47.41</td>\n",
       "      <td>190.2</td>\n",
       "      <td>67</td>\n",
       "      <td>16.17</td>\n",
       "      <td>...</td>\n",
       "      <td>1</td>\n",
       "      <td>0</td>\n",
       "      <td>0</td>\n",
       "      <td>0</td>\n",
       "      <td>0</td>\n",
       "      <td>0</td>\n",
       "      <td>0</td>\n",
       "      <td>0</td>\n",
       "      <td>0</td>\n",
       "      <td>1</td>\n",
       "    </tr>\n",
       "    <tr>\n",
       "      <th>1846</th>\n",
       "      <td>120</td>\n",
       "      <td>510</td>\n",
       "      <td>395</td>\n",
       "      <td>43</td>\n",
       "      <td>177.9</td>\n",
       "      <td>117</td>\n",
       "      <td>30.24</td>\n",
       "      <td>175.1</td>\n",
       "      <td>70</td>\n",
       "      <td>14.88</td>\n",
       "      <td>...</td>\n",
       "      <td>0</td>\n",
       "      <td>0</td>\n",
       "      <td>0</td>\n",
       "      <td>0</td>\n",
       "      <td>0</td>\n",
       "      <td>0</td>\n",
       "      <td>0</td>\n",
       "      <td>0</td>\n",
       "      <td>1</td>\n",
       "      <td>0</td>\n",
       "    </tr>\n",
       "  </tbody>\n",
       "</table>\n",
       "<p>5 rows × 70 columns</p>\n",
       "</div>"
      ],
      "text/plain": [
       "      account length  area code phone number  number vmail messages  \\\n",
       "2016              80        510          332                      0   \n",
       "1362              63        510          329                      0   \n",
       "2670             116        510          392                     12   \n",
       "2210              71        415          367                      0   \n",
       "1846             120        510          395                     43   \n",
       "\n",
       "      total day minutes  total day calls  total day charge  total eve minutes  \\\n",
       "2016              202.4              118             34.41              260.2   \n",
       "1362              132.9              122             22.59               67.0   \n",
       "2670              221.0              108             37.57              151.0   \n",
       "2210              278.9              110             47.41              190.2   \n",
       "1846              177.9              117             30.24              175.1   \n",
       "\n",
       "      total eve calls  total eve charge  ...  state_UT  state_VA  state_VT  \\\n",
       "2016               67             22.12  ...         0         0         0   \n",
       "1362               62              5.70  ...         0         0         0   \n",
       "2670              118             12.84  ...         0         0         0   \n",
       "2210               67             16.17  ...         1         0         0   \n",
       "1846               70             14.88  ...         0         0         0   \n",
       "\n",
       "      state_WA  state_WI  state_WV  state_WY  international plan_yes  \\\n",
       "2016         0         0         0         0                       0   \n",
       "1362         0         0         1         0                       0   \n",
       "2670         0         0         0         1                       0   \n",
       "2210         0         0         0         0                       0   \n",
       "1846         0         0         0         0                       0   \n",
       "\n",
       "      voice mail plan_yes  churn  \n",
       "2016                    0      0  \n",
       "1362                    0      0  \n",
       "2670                    1      0  \n",
       "2210                    0      1  \n",
       "1846                    1      0  \n",
       "\n",
       "[5 rows x 70 columns]"
      ]
     },
     "execution_count": 22,
     "metadata": {},
     "output_type": "execute_result"
    }
   ],
   "source": [
    "df_train = pd.concat([X_train, y_train], axis=1)\n",
    "df_train.head()"
   ]
  },
  {
   "cell_type": "code",
   "execution_count": 23,
   "metadata": {
    "ExecuteTime": {
     "end_time": "2020-10-09T04:07:25.714549Z",
     "start_time": "2020-10-09T04:07:25.701550Z"
    }
   },
   "outputs": [
    {
     "data": {
      "text/plain": [
       "1    1993\n",
       "0    1993\n",
       "Name: churn, dtype: int64"
      ]
     },
     "execution_count": 23,
     "metadata": {},
     "output_type": "execute_result"
    }
   ],
   "source": [
    "churn_majority = df_train[df_train.churn==0]\n",
    "churn_minority = df_train[df_train.churn==1]\n",
    " \n",
    "# resample minority class\n",
    "df_train_minority = resample(churn_minority, n_samples=1993, random_state=42)\n",
    "\n",
    "# recombine the classes into X_train\n",
    "df_train2 = pd.concat([churn_majority, df_train_minority])\n",
    "df_train2.churn.value_counts()"
   ]
  },
  {
   "cell_type": "code",
   "execution_count": 24,
   "metadata": {
    "ExecuteTime": {
     "end_time": "2020-10-09T04:07:25.730548Z",
     "start_time": "2020-10-09T04:07:25.715551Z"
    }
   },
   "outputs": [],
   "source": [
    "df_train2 = df_train2.reset_index(drop=True)"
   ]
  },
  {
   "cell_type": "code",
   "execution_count": 25,
   "metadata": {
    "ExecuteTime": {
     "end_time": "2020-10-09T04:07:25.746548Z",
     "start_time": "2020-10-09T04:07:25.731549Z"
    }
   },
   "outputs": [],
   "source": [
    "y_train = df_train2['churn']\n",
    "X_train = df_train2.drop('churn', axis=1)"
   ]
  },
  {
   "cell_type": "code",
   "execution_count": 26,
   "metadata": {
    "ExecuteTime": {
     "end_time": "2020-10-09T04:07:26.600018Z",
     "start_time": "2020-10-09T04:07:25.747549Z"
    }
   },
   "outputs": [
    {
     "name": "stdout",
     "output_type": "stream",
     "text": [
      "For convinent loading 'from mlframe import MLFrame\n"
     ]
    },
    {
     "data": {
      "text/plain": [
       "(<Figure size 1800x1800 with 2 Axes>, <AxesSubplot:>)"
      ]
     },
     "execution_count": 26,
     "metadata": {},
     "output_type": "execute_result"
    },
    {
     "data": {
      "image/png": "[encoded data removed]",
      "text/plain": [
       "<Figure size 1800x1800 with 2 Axes>"
      ]
     },
     "metadata": {
      "needs_background": "light"
     },
     "output_type": "display_data"
    }
   ],
   "source": [
    "from mlframe import MLFrame\n",
    "df_test = MLFrame(fresh_df)\n",
    "drop_cols = [col for col in df_test.columns if 'state' in col]\n",
    "df_test.drop(drop_cols, axis=1).plot_corr()"
   ]
  },
  {
   "cell_type": "markdown",
   "metadata": {},
   "source": [
    "<div class=\"shadow alert alert-success\">\n",
    "    <ul><b>From the plot:</b>\n",
    "<li>As expected charges correlate with minutes at that time of day</li>\n",
    "<li><b>total day minutes</b> correlates slightly with churn</li>\n",
    "<li><b>total day charge</b> correlates slightly with churn</li>\n",
    "<li><b>customer service calls</b> correlates slightly with churn</li>\n",
    "</ul>\n",
    "</div>"
   ]
  },
  {
   "cell_type": "markdown",
   "metadata": {
    "ExecuteTime": {
     "end_time": "2020-10-08T09:23:20.110186Z",
     "start_time": "2020-10-08T09:23:20.096187Z"
    }
   },
   "source": [
    "## Finding the best arguments\n",
    "> We will be running a GridSearchCV to find the best params for each model, scoring will be on recall"
   ]
  },
  {
   "cell_type": "code",
   "execution_count": 27,
   "metadata": {
    "ExecuteTime": {
     "end_time": "2020-10-09T04:07:26.615021Z",
     "start_time": "2020-10-09T04:07:26.601019Z"
    }
   },
   "outputs": [],
   "source": [
    "from sklearn.metrics import roc_auc_score"
   ]
  },
  {
   "cell_type": "code",
   "execution_count": 28,
   "metadata": {
    "ExecuteTime": {
     "end_time": "2020-10-09T04:07:26.630020Z",
     "start_time": "2020-10-09T04:07:26.616021Z"
    }
   },
   "outputs": [],
   "source": [
    "def grid_search_base(estimator, X, y, params, scoring='accuracy', verbose=True):\n",
    "    \"\"\"\n",
    "    Parameters\n",
    "    \n",
    "    Returns\n",
    "    \"\"\"\n",
    "    clf = GridSearchCV(estimator, params, scoring='accuracy',\n",
    "                       n_jobs=-1, cv=5)\n",
    "    clf.fit(X, y)\n",
    "    clf_best = clf.best_estimator_\n",
    "    clf_best.fit(X, y)\n",
    "    if verbose:\n",
    "        print(\"Estimator:\")\n",
    "        print(clf.best_estimator_)\n",
    "        print(\"=\"*20)\n",
    "        classification_report(clf_best, X, y)\n",
    "    return clf_best"
   ]
  },
  {
   "cell_type": "code",
   "execution_count": 29,
   "metadata": {
    "ExecuteTime": {
     "end_time": "2020-10-09T04:07:26.646018Z",
     "start_time": "2020-10-09T04:07:26.631018Z"
    }
   },
   "outputs": [],
   "source": [
    "def grid_search_accuracy(estimator, X, y, params, scoring='accuracy', verbose=True):\n",
    "    \"\"\"Basically a wrapper for base so the scoring can be changed\"\"\"\n",
    "    if isinstance(scoring, str):\n",
    "        pass\n",
    "    else:\n",
    "        scoring = make_scorer(scoring)\n",
    "    return grid_search_base(estimator, X, y, params, scoring, verbose)"
   ]
  },
  {
   "cell_type": "code",
   "execution_count": 30,
   "metadata": {
    "ExecuteTime": {
     "end_time": "2020-10-09T04:07:26.661018Z",
     "start_time": "2020-10-09T04:07:26.647019Z"
    }
   },
   "outputs": [],
   "source": [
    "def classification_report(estimator, X, y):\n",
    "    \"\"\"\"\"\"\n",
    "    print(\"Training score:\\n\", estimator.score(X, y))\n",
    "    print(\"=\"*20)\n",
    "    print(\"Testing score:\\n\", estimator.score(X_test, y_test))\n",
    "    print(\"=\"*20)\n",
    "    fig, (ax1, ax2) = plt.subplots(figsize=(15, 6), ncols=2)\n",
    "    ax1.set_title(\"Training data\")\n",
    "    plot_confusion_matrix(estimator, X, y, ax=ax1, cmap='Blues')\n",
    "    ax2.set_title(\"Testing data\")\n",
    "    plot_confusion_matrix(estimator, X_test, y_test, ax=ax2, cmap='Blues')\n",
    "    return fig, (ax1, ax2)"
   ]
  },
  {
   "cell_type": "markdown",
   "metadata": {},
   "source": [
    "### kNN classifier\n",
    "> Run a GridSearchCV with K Nearest Neighbors Classifier"
   ]
  },
  {
   "cell_type": "code",
   "execution_count": 31,
   "metadata": {
    "ExecuteTime": {
     "end_time": "2020-10-09T04:07:26.676019Z",
     "start_time": "2020-10-09T04:07:26.662020Z"
    }
   },
   "outputs": [],
   "source": [
    "params = {\n",
    "    \"n_neighbors\": [3, 5, 12, 24, 48, 96],\n",
    "    \"weights\": ['uniform'],\n",
    "    \"p\": [3, 5, 8],\n",
    "}"
   ]
  },
  {
   "cell_type": "code",
   "execution_count": 32,
   "metadata": {
    "ExecuteTime": {
     "end_time": "2020-10-09T04:07:36.531112Z",
     "start_time": "2020-10-09T04:07:26.677019Z"
    }
   },
   "outputs": [
    {
     "name": "stdout",
     "output_type": "stream",
     "text": [
      "Estimator:\n",
      "KNeighborsClassifier(n_neighbors=3, p=3)\n",
      "====================\n",
      "Training score:\n",
      " 0.9407927747114903\n",
      "====================\n",
      "Testing score:\n",
      " 0.7388888888888889\n",
      "====================\n"
     ]
    },
    {
     "data": {
      "image/png": "[encoded data removed]",
      "text/plain": [
       "<Figure size 1080x432 with 4 Axes>"
      ]
     },
     "metadata": {
      "needs_background": "light"
     },
     "output_type": "display_data"
    }
   ],
   "source": [
    "knn_best = grid_search_accuracy(\n",
    "               KNeighborsClassifier(), X_train, y_train, params)"
   ]
  },
  {
   "cell_type": "markdown",
   "metadata": {},
   "source": [
    "<div class=\"shadow alert alert-info\">\n",
    "    <ul><b>From the model:</b>\n",
    "<li></li>\n",
    "</ul>\n",
    "</div>"
   ]
  },
  {
   "cell_type": "markdown",
   "metadata": {
    "ExecuteTime": {
     "end_time": "2020-10-08T10:22:46.780944Z",
     "start_time": "2020-10-08T10:22:46.769946Z"
    }
   },
   "source": [
    "### Random Forest Classifier\n",
    "> Run a GridSearchCV with Random Forest Classifier"
   ]
  },
  {
   "cell_type": "code",
   "execution_count": 33,
   "metadata": {
    "ExecuteTime": {
     "end_time": "2020-10-09T04:07:36.547101Z",
     "start_time": "2020-10-09T04:07:36.531112Z"
    }
   },
   "outputs": [],
   "source": [
    "params = {\n",
    "    \"n_estimators\": [10, 50, 100, 300],\n",
    "    \"max_depth\": [None, 5, 10, 20, 40],\n",
    "    # \"bootstrap\": [True, False],\n",
    "    \"min_samples_split\": [1, 2, 16, 32, 64],\n",
    "}"
   ]
  },
  {
   "cell_type": "code",
   "execution_count": 34,
   "metadata": {
    "ExecuteTime": {
     "end_time": "2020-10-09T04:07:53.052472Z",
     "start_time": "2020-10-09T04:07:36.548103Z"
    }
   },
   "outputs": [
    {
     "name": "stdout",
     "output_type": "stream",
     "text": [
      "Estimator:\n",
      "RandomForestClassifier(max_depth=20, n_estimators=50)\n",
      "====================\n",
      "Training score:\n",
      " 1.0\n",
      "====================\n",
      "Testing score:\n",
      " 0.94\n",
      "====================\n"
     ]
    },
    {
     "data": {
      "image/png": "[encoded data removed]",
      "text/plain": [
       "<Figure size 1080x432 with 4 Axes>"
      ]
     },
     "metadata": {
      "needs_background": "light"
     },
     "output_type": "display_data"
    }
   ],
   "source": [
    "rf_best = grid_search_accuracy(\n",
    "              RandomForestClassifier(), X_train, y_train, params)"
   ]
  },
  {
   "cell_type": "markdown",
   "metadata": {},
   "source": [
    "<div class=\"shadow alert alert-info\">\n",
    "    <ul><b>From the model:</b>\n",
    "<li></li>\n",
    "</ul>\n",
    "</div>"
   ]
  },
  {
   "cell_type": "markdown",
   "metadata": {},
   "source": [
    "### Adaboost Classifier\n",
    "> Run a GridSearchCV with Adaboost Classifier\n",
    "> * Adaboost is for class imbalance, so we will be training it on the data that wasn't fixed for class imbalance"
   ]
  },
  {
   "cell_type": "markdown",
   "metadata": {},
   "source": [
    "#### Get data"
   ]
  },
  {
   "cell_type": "code",
   "execution_count": 35,
   "metadata": {
    "ExecuteTime": {
     "end_time": "2020-10-09T04:07:53.068472Z",
     "start_time": "2020-10-09T04:07:53.053472Z"
    }
   },
   "outputs": [
    {
     "data": {
      "text/plain": [
       "0    1993\n",
       "1     340\n",
       "Name: churn, dtype: int64"
      ]
     },
     "execution_count": 35,
     "metadata": {},
     "output_type": "execute_result"
    }
   ],
   "source": [
    "df_train['churn'].value_counts()"
   ]
  },
  {
   "cell_type": "code",
   "execution_count": 36,
   "metadata": {
    "ExecuteTime": {
     "end_time": "2020-10-09T04:07:53.084473Z",
     "start_time": "2020-10-09T04:07:53.069476Z"
    }
   },
   "outputs": [],
   "source": [
    "y_train_ada = df_train['churn']\n",
    "X_train_ada = df_train.drop('churn', axis=1)"
   ]
  },
  {
   "cell_type": "markdown",
   "metadata": {},
   "source": [
    "#### Model"
   ]
  },
  {
   "cell_type": "code",
   "execution_count": 37,
   "metadata": {
    "ExecuteTime": {
     "end_time": "2020-10-09T04:07:53.100473Z",
     "start_time": "2020-10-09T04:07:53.085475Z"
    }
   },
   "outputs": [],
   "source": [
    "params = {\n",
    "    \"n_estimators\": [None, 5, 10, 20, 40, 80],\n",
    "    \"learning_rate\": [0.001, 0.01, 0.1, 1],\n",
    "    \"random_state\": [42]\n",
    "}"
   ]
  },
  {
   "cell_type": "code",
   "execution_count": 38,
   "metadata": {
    "ExecuteTime": {
     "end_time": "2020-10-09T04:08:01.927425Z",
     "start_time": "2020-10-09T04:07:53.101473Z"
    }
   },
   "outputs": [
    {
     "name": "stdout",
     "output_type": "stream",
     "text": [
      "Estimator:\n",
      "AdaBoostClassifier(learning_rate=1, n_estimators=10, random_state=42)\n",
      "====================\n",
      "Training score:\n",
      " 0.8851264466352337\n",
      "====================\n",
      "Testing score:\n",
      " 0.89\n",
      "====================\n"
     ]
    },
    {
     "data": {
      "image/png": "[encoded data removed]",
      "text/plain": [
       "<Figure size 1080x432 with 4 Axes>"
      ]
     },
     "metadata": {
      "needs_background": "light"
     },
     "output_type": "display_data"
    }
   ],
   "source": [
    "ada_best = grid_search_accuracy(\n",
    "              AdaBoostClassifier(), X_train_ada, y_train_ada, params)"
   ]
  },
  {
   "cell_type": "markdown",
   "metadata": {},
   "source": [
    "<div class=\"shadow alert alert-info\">\n",
    "    <ul><b>From the model:</b>\n",
    "<li></li>\n",
    "</ul>\n",
    "</div>"
   ]
  },
  {
   "cell_type": "markdown",
   "metadata": {},
   "source": [
    "### SVC Classifier\n",
    "> Run a GridSearchCV with SVC"
   ]
  },
  {
   "cell_type": "code",
   "execution_count": 39,
   "metadata": {
    "ExecuteTime": {
     "end_time": "2020-10-09T04:08:01.942428Z",
     "start_time": "2020-10-09T04:08:01.928426Z"
    }
   },
   "outputs": [],
   "source": [
    "### SVM\n",
    "params = {\n",
    "    \"C\": [1]\n",
    "}"
   ]
  },
  {
   "cell_type": "code",
   "execution_count": 40,
   "metadata": {
    "ExecuteTime": {
     "end_time": "2020-10-09T04:08:02.051427Z",
     "start_time": "2020-10-09T04:08:01.943426Z"
    }
   },
   "outputs": [
    {
     "ename": "NameError",
     "evalue": "name 'svc' is not defined",
     "output_type": "error",
     "traceback": [
      "\u001b[1;31m---------------------------------------------------------------------------\u001b[0m",
      "\u001b[1;31mNameError\u001b[0m                                 Traceback (most recent call last)",
      "\u001b[1;32m<ipython-input-40-bac8b8291f1b>\u001b[0m in \u001b[0;36m<module>\u001b[1;34m\u001b[0m\n\u001b[0;32m      1\u001b[0m svc_best = grid_search_accuracy(\n\u001b[1;32m----> 2\u001b[1;33m               svc.SVC(), X_train, y_train, params)\n\u001b[0m",
      "\u001b[1;31mNameError\u001b[0m: name 'svc' is not defined"
     ]
    }
   ],
   "source": [
    "svc_best = grid_search_accuracy(\n",
    "              svc.SVC(), X_train, y_train, params)"
   ]
  },
  {
   "cell_type": "markdown",
   "metadata": {},
   "source": [
    "<div class=\"shadow alert alert-info\">\n",
    "    <ul><b>From the model:</b>\n",
    "<li></li>\n",
    "</ul>\n",
    "</div>"
   ]
  },
  {
   "cell_type": "markdown",
   "metadata": {},
   "source": [
    "### Gradient Boosting Classifier\n",
    "> Run a GridSearchCV with Gradient Boosting"
   ]
  },
  {
   "cell_type": "code",
   "execution_count": null,
   "metadata": {
    "ExecuteTime": {
     "end_time": "2020-10-09T04:08:02.052429Z",
     "start_time": "2020-10-09T04:07:22.502Z"
    }
   },
   "outputs": [],
   "source": [
    "params = {\n",
    "    \"n_estimators\": [100],\n",
    "    \"learning_rate\": [.01, .1, 1],\n",
    "    \"max_depth\": [1, 3, 5, 10]\n",
    "}"
   ]
  },
  {
   "cell_type": "code",
   "execution_count": null,
   "metadata": {
    "ExecuteTime": {
     "end_time": "2020-10-09T04:08:02.053426Z",
     "start_time": "2020-10-09T04:07:22.504Z"
    }
   },
   "outputs": [],
   "source": [
    "gb_best = grid_search_accuracy(\n",
    "              GradientBoostingClassifier(), X_train, y_train, params, scoring=roc_auc_score)"
   ]
  },
  {
   "cell_type": "markdown",
   "metadata": {},
   "source": [
    "<div class=\"shadow alert alert-info\">\n",
    "    <ul><b>From the model:</b>\n",
    "<li></li>\n",
    "</ul>\n",
    "</div>"
   ]
  },
  {
   "cell_type": "markdown",
   "metadata": {
    "ExecuteTime": {
     "end_time": "2020-10-08T21:07:56.254562Z",
     "start_time": "2020-10-08T21:07:56.250561Z"
    }
   },
   "source": [
    "### Naked Stacking Classifier\n",
    "> Make a StackingClassifier with each of the estimators used above"
   ]
  },
  {
   "cell_type": "code",
   "execution_count": null,
   "metadata": {
    "ExecuteTime": {
     "end_time": "2020-10-09T04:08:02.053426Z",
     "start_time": "2020-10-09T04:07:22.507Z"
    }
   },
   "outputs": [],
   "source": [
    "estimators = [\n",
    "    (\"knn\", KNeighborsClassifier()),\n",
    "    (\"rf\", RandomForestClassifier()),\n",
    "    (\"ada\", AdaBoostClassifier()),\n",
    "    (\"gb\", GradientBoostingClassifier()),\n",
    "    (\"svc\", svm.SVC())\n",
    "]"
   ]
  },
  {
   "cell_type": "code",
   "execution_count": null,
   "metadata": {
    "ExecuteTime": {
     "end_time": "2020-10-09T04:08:02.054426Z",
     "start_time": "2020-10-09T04:07:22.509Z"
    }
   },
   "outputs": [],
   "source": [
    "stacking_clf = StackingClassifier(estimators, n_jobs=-1, )\n",
    "stacking_clf.fit(X_train, y_train)\n",
    "classification_report(stacking_clf, X_train, y_train)"
   ]
  },
  {
   "cell_type": "markdown",
   "metadata": {},
   "source": [
    "<div class=\"shadow alert alert-info\">\n",
    "    <ul><b>From the model:</b>\n",
    "<li>Not bad, but the Gradient Boosting did better overall on it's own</li>\n",
    "</ul>\n",
    "</div>"
   ]
  },
  {
   "cell_type": "markdown",
   "metadata": {
    "ExecuteTime": {
     "end_time": "2020-10-08T18:52:53.164920Z",
     "start_time": "2020-10-08T18:52:53.152921Z"
    }
   },
   "source": [
    "### Stacking Classifier with best\n",
    "> Make a StackingClassifier with each of **best** the estimators used above taken from their respective grid searches."
   ]
  },
  {
   "cell_type": "code",
   "execution_count": null,
   "metadata": {
    "ExecuteTime": {
     "end_time": "2020-10-09T04:08:02.055426Z",
     "start_time": "2020-10-09T04:07:22.512Z"
    }
   },
   "outputs": [],
   "source": [
    "estimators = [\n",
    "    (\"knn\", knn_best),\n",
    "    (\"rf\", rf_best),\n",
    "    (\"ada\", ada_best),\n",
    "    (\"gb\", gb_best),\n",
    "    (\"svc\", svc_best)\n",
    "]"
   ]
  },
  {
   "cell_type": "code",
   "execution_count": null,
   "metadata": {
    "ExecuteTime": {
     "end_time": "2020-10-09T04:08:02.055426Z",
     "start_time": "2020-10-09T04:07:22.514Z"
    }
   },
   "outputs": [],
   "source": [
    "stacking_clf = StackingClassifier(estimators, n_jobs=-1, )\n",
    "stacking_clf.fit(X_train, y_train)\n",
    "classification_report(stacking_clf, X_train, y_train)"
   ]
  },
  {
   "cell_type": "code",
   "execution_count": null,
   "metadata": {
    "ExecuteTime": {
     "end_time": "2020-10-09T04:08:02.056426Z",
     "start_time": "2020-10-09T04:07:22.516Z"
    }
   },
   "outputs": [],
   "source": [
    "classification_report(stacking_clf, X_validation, y_validation)"
   ]
  },
  {
   "cell_type": "markdown",
   "metadata": {},
   "source": [
    "<div class=\"shadow alert alert-info\">\n",
    "    <ul><b>From the model:</b>\n",
    "<li>We may predict some customers are going to leave, but they weren't going to, but that's okay because we are classifying almost every customer that is leaving</li>\n",
    "        <li>Slightly more resources may be spent on customers that were going to stay anyway</li>\n",
    "        <li>False Positives are 50% of True Positives</li>\n",
    "</ul>\n",
    "</div>"
   ]
  },
  {
   "cell_type": "markdown",
   "metadata": {},
   "source": [
    "## Interpretation\n",
    "> - \n",
    "- \n",
    "- "
   ]
  },
  {
   "cell_type": "markdown",
   "metadata": {},
   "source": [
    "### Feature Importance\n",
    "> "
   ]
  },
  {
   "cell_type": "code",
   "execution_count": null,
   "metadata": {
    "ExecuteTime": {
     "end_time": "2020-10-09T04:08:02.057426Z",
     "start_time": "2020-10-09T04:07:22.520Z"
    }
   },
   "outputs": [],
   "source": [
    "importance = pd.DataFrame({'importance': gb_best.feature_importances_},\n",
    "                          index=X_train.columns).reset_index()\n",
    "fig, ax = plt.subplots(figsize=(6, 4.75))\n",
    "data = importance.sort_values(by='importance', ascending=False).head(15)\n",
    "sns.barplot('importance', 'index', data=data)\n",
    "ax.set_title(\"Importance of the columns for Gradient Boosting\")\n",
    "ax.set_ylabel(\"Column Name\")\n",
    "ax.set_xlabel(\"Feature Importance\")"
   ]
  },
  {
   "cell_type": "markdown",
   "metadata": {
    "ExecuteTime": {
     "end_time": "2020-10-08T20:56:28.826541Z",
     "start_time": "2020-10-08T20:56:28.818543Z"
    }
   },
   "source": [
    "<div class=\"shadow alert alert-warning\">\n",
    "    <ul><b>From the plot:</b>\n",
    "<li></li>\n",
    "</ul>\n",
    "</div>"
   ]
  },
  {
   "cell_type": "markdown",
   "metadata": {},
   "source": [
    "### Shap\n",
    "> "
   ]
  },
  {
   "cell_type": "code",
   "execution_count": null,
   "metadata": {
    "ExecuteTime": {
     "end_time": "2020-10-09T04:08:02.057426Z",
     "start_time": "2020-10-09T04:07:22.523Z"
    }
   },
   "outputs": [],
   "source": [
    "f = lambda x: gb_best.predict_proba(x)[:,1]\n",
    "explainer = shap.KernelExplainer(f, X_validation)"
   ]
  },
  {
   "cell_type": "code",
   "execution_count": null,
   "metadata": {
    "ExecuteTime": {
     "end_time": "2020-10-09T04:08:02.058426Z",
     "start_time": "2020-10-09T04:07:22.526Z"
    }
   },
   "outputs": [],
   "source": [
    "shap_values = explainer.shap_values(X_validation, nsamples=100)"
   ]
  },
  {
   "cell_type": "code",
   "execution_count": null,
   "metadata": {
    "ExecuteTime": {
     "end_time": "2020-10-09T04:08:02.059426Z",
     "start_time": "2020-10-09T04:07:22.528Z"
    }
   },
   "outputs": [],
   "source": [
    "shap.initjs()"
   ]
  },
  {
   "cell_type": "markdown",
   "metadata": {},
   "source": [
    "#### X"
   ]
  },
  {
   "cell_type": "code",
   "execution_count": null,
   "metadata": {
    "ExecuteTime": {
     "end_time": "2020-10-09T04:08:02.060426Z",
     "start_time": "2020-10-09T04:07:22.531Z"
    }
   },
   "outputs": [],
   "source": [
    "shap.force_plot(explainer.expected_value, shap_values, X_validation)"
   ]
  },
  {
   "cell_type": "markdown",
   "metadata": {},
   "source": [
    "<div class=\"shadow alert alert-warning\">\n",
    "    <ul><b>From the plot:</b>\n",
    "<li></li>\n",
    "</ul>\n",
    "</div>"
   ]
  },
  {
   "cell_type": "markdown",
   "metadata": {
    "ExecuteTime": {
     "end_time": "2020-10-09T01:43:50.272833Z",
     "start_time": "2020-10-09T01:43:50.270834Z"
    }
   },
   "source": [
    "#### X"
   ]
  },
  {
   "cell_type": "code",
   "execution_count": null,
   "metadata": {
    "ExecuteTime": {
     "end_time": "2020-10-09T04:08:02.060426Z",
     "start_time": "2020-10-09T04:07:22.534Z"
    }
   },
   "outputs": [],
   "source": [
    "shap.summary_plot(shap_values, X_validation, plot_type=\"bar\")"
   ]
  },
  {
   "cell_type": "markdown",
   "metadata": {},
   "source": [
    "<div class=\"shadow alert alert-warning\">\n",
    "    <ul><b>From the plot:</b>\n",
    "<li></li>\n",
    "</ul>\n",
    "</div>"
   ]
  },
  {
   "cell_type": "markdown",
   "metadata": {
    "ExecuteTime": {
     "end_time": "2020-10-09T01:43:43.268140Z",
     "start_time": "2020-10-09T01:43:43.256140Z"
    }
   },
   "source": [
    "#### X"
   ]
  },
  {
   "cell_type": "code",
   "execution_count": null,
   "metadata": {
    "ExecuteTime": {
     "end_time": "2020-10-09T04:08:02.061431Z",
     "start_time": "2020-10-09T04:07:22.537Z"
    }
   },
   "outputs": [],
   "source": [
    "fig, ax = plt.subplots(figsize=(6, 4.75))\n",
    "sns.regplot(\"total day minutes\", \"churn\", data=fresh_df)\n",
    "ax.set_title(\"Churn vs total day minutes\")"
   ]
  },
  {
   "cell_type": "markdown",
   "metadata": {},
   "source": [
    "<div class=\"shadow alert alert-warning\">\n",
    "    <ul><b>From the plot:</b>\n",
    "<li></li>\n",
    "</ul>\n",
    "</div>"
   ]
  },
  {
   "cell_type": "markdown",
   "metadata": {},
   "source": [
    "#### Distplot number vmail messages"
   ]
  },
  {
   "cell_type": "code",
   "execution_count": null,
   "metadata": {
    "ExecuteTime": {
     "end_time": "2020-10-09T04:08:02.062426Z",
     "start_time": "2020-10-09T04:07:22.540Z"
    }
   },
   "outputs": [],
   "source": [
    "fig, ax = plt.subplots(figsize=(6, 4.75))\n",
    "sns.distplot(fresh_df[\"number vmail messages\"].apply(lambda x: np.NaN if x==0 else x).dropna())\n",
    "ax.set_title(\"Total Voice Mail Messages Received\")"
   ]
  },
  {
   "cell_type": "markdown",
   "metadata": {},
   "source": [
    "<div class=\"shadow alert alert-warning\">\n",
    "    <ul><b>From the plot:</b>\n",
    "<li></li>\n",
    "</ul>\n",
    "</div>"
   ]
  },
  {
   "cell_type": "markdown",
   "metadata": {
    "ExecuteTime": {
     "end_time": "2020-10-09T01:46:20.129933Z",
     "start_time": "2020-10-09T01:46:20.117933Z"
    }
   },
   "source": [
    "#### X"
   ]
  },
  {
   "cell_type": "code",
   "execution_count": null,
   "metadata": {
    "ExecuteTime": {
     "end_time": "2020-10-09T04:08:02.062426Z",
     "start_time": "2020-10-09T04:07:22.543Z"
    }
   },
   "outputs": [],
   "source": [
    "fig, ax = plt.subplots(figsize=(6, 4.75))\n",
    "sns.regplot(\"number vmail messages\", 'churn', data=df)\n",
    "ax.set_title(\"Churn vs Voice Mail Messages Received\")"
   ]
  },
  {
   "cell_type": "markdown",
   "metadata": {},
   "source": [
    "<div class=\"shadow alert alert-warning\">\n",
    "    <ul><b>From the plot:</b>\n",
    "<li></li>\n",
    "</ul>\n",
    "</div>"
   ]
  },
  {
   "cell_type": "markdown",
   "metadata": {},
   "source": [
    "#### Interactive jointplot"
   ]
  },
  {
   "cell_type": "code",
   "execution_count": null,
   "metadata": {
    "ExecuteTime": {
     "end_time": "2020-10-09T04:08:02.063427Z",
     "start_time": "2020-10-09T04:07:22.545Z"
    }
   },
   "outputs": [],
   "source": [
    "interact_cols = df.columns.copy()\n",
    "interact_cols = interact_cols.drop([col for col in df.columns if 'state' in col])\n",
    "interact_cols = interact_cols.drop('phone number')\n",
    "interact_cols"
   ]
  },
  {
   "cell_type": "code",
   "execution_count": null,
   "metadata": {
    "ExecuteTime": {
     "end_time": "2020-10-09T04:08:02.064426Z",
     "start_time": "2020-10-09T04:07:22.548Z"
    }
   },
   "outputs": [],
   "source": [
    "from ipywidgets import interact\n",
    "\n",
    "@interact\n",
    "def jointplot(x=interact_cols, y=interact_cols):\n",
    "    sns.jointplot(x, y, data=df, kind='regplot')"
   ]
  },
  {
   "cell_type": "markdown",
   "metadata": {
    "ExecuteTime": {
     "end_time": "2020-10-09T02:03:03.179658Z",
     "start_time": "2020-10-09T02:03:03.167659Z"
    }
   },
   "source": [
    "#### Map"
   ]
  },
  {
   "cell_type": "code",
   "execution_count": null,
   "metadata": {
    "ExecuteTime": {
     "end_time": "2020-10-09T04:08:02.065426Z",
     "start_time": "2020-10-09T04:07:22.550Z"
    }
   },
   "outputs": [],
   "source": [
    "map_df = fresh_df.copy()"
   ]
  },
  {
   "cell_type": "code",
   "execution_count": null,
   "metadata": {
    "ExecuteTime": {
     "end_time": "2020-10-09T04:08:02.065426Z",
     "start_time": "2020-10-09T04:07:22.552Z"
    }
   },
   "outputs": [],
   "source": [
    "map_df['phone number'] = map_df['phone number'].apply(lambda x: x[:3])\n",
    "map_df['phone number'].value_counts()"
   ]
  },
  {
   "cell_type": "code",
   "execution_count": null,
   "metadata": {
    "ExecuteTime": {
     "end_time": "2020-10-09T04:08:02.066426Z",
     "start_time": "2020-10-09T04:07:22.554Z"
    }
   },
   "outputs": [],
   "source": [
    "map_df['area code'].value_counts()"
   ]
  },
  {
   "cell_type": "code",
   "execution_count": null,
   "metadata": {
    "ExecuteTime": {
     "end_time": "2020-10-09T04:08:02.067426Z",
     "start_time": "2020-10-09T04:07:22.556Z"
    }
   },
   "outputs": [],
   "source": [
    "area_prefix = []\n",
    "for idx, row in map_df.iterrows():\n",
    "    area_prefix.append(str(row['area code'])+str(row['phone number']))\n",
    "map_df['area_prefix'] = area_prefix"
   ]
  },
  {
   "cell_type": "code",
   "execution_count": null,
   "metadata": {
    "ExecuteTime": {
     "end_time": "2020-10-09T04:08:02.067426Z",
     "start_time": "2020-10-09T04:07:22.558Z"
    }
   },
   "outputs": [],
   "source": [
    "area_prefixes = set(map_df['area_prefix'])"
   ]
  },
  {
   "cell_type": "code",
   "execution_count": null,
   "metadata": {
    "ExecuteTime": {
     "end_time": "2020-10-09T04:08:02.068426Z",
     "start_time": "2020-10-09T04:07:22.559Z"
    }
   },
   "outputs": [],
   "source": [
    "import json\n",
    "import time\n",
    "import folium\n",
    "import requests\n",
    "from bs4 import BeautifulSoup"
   ]
  },
  {
   "cell_type": "code",
   "execution_count": null,
   "metadata": {
    "ExecuteTime": {
     "end_time": "2020-10-09T04:08:02.069426Z",
     "start_time": "2020-10-09T04:07:22.561Z"
    }
   },
   "outputs": [],
   "source": [
    "# built scraper in 19 minutes :)"
   ]
  },
  {
   "cell_type": "code",
   "execution_count": null,
   "metadata": {
    "ExecuteTime": {
     "end_time": "2020-10-09T04:08:02.069426Z",
     "start_time": "2020-10-09T04:07:22.563Z"
    }
   },
   "outputs": [],
   "source": [
    "def get_soup(area_prefix):\n",
    "    area = area_prefix[:3]\n",
    "    prefix = area_prefix[3:]\n",
    "    url = \"https://www.area-codes.com/exchange/exchange.asp?npa=%s&nxx=%s\" % (area, prefix)\n",
    "    req = requests.get(url)\n",
    "    return BeautifulSoup(req.content, 'html')"
   ]
  },
  {
   "cell_type": "code",
   "execution_count": null,
   "metadata": {
    "ExecuteTime": {
     "end_time": "2020-10-09T04:08:02.070426Z",
     "start_time": "2020-10-09T04:07:22.564Z"
    }
   },
   "outputs": [],
   "source": [
    "def get_lat_long(table):\n",
    "    found_lat = False\n",
    "    found_long = False\n",
    "    for td in table.findAll('td'):\n",
    "        if found_lat:\n",
    "            lat = td.text\n",
    "            found_lat = False\n",
    "        if found_long:\n",
    "            long = td.text\n",
    "            found_long = False\n",
    "        if td.text == \"Latitude:\":\n",
    "            found_lat = True\n",
    "        if td.text == \"Longitude:\":\n",
    "            found_long = True\n",
    "    return lat, long"
   ]
  },
  {
   "cell_type": "code",
   "execution_count": null,
   "metadata": {
    "ExecuteTime": {
     "end_time": "2020-10-09T04:08:02.071426Z",
     "start_time": "2020-10-09T04:07:22.566Z"
    }
   },
   "outputs": [],
   "source": [
    "def get_zipped_lat_long(area_prefix):\n",
    "    soup = get_soup(area_prefix)\n",
    "    table = soup.find('table')\n",
    "    lat, long = get_lat_long(table)\n",
    "    return {'lat': lat, 'long': long}"
   ]
  },
  {
   "cell_type": "code",
   "execution_count": null,
   "metadata": {
    "ExecuteTime": {
     "end_time": "2020-10-09T04:08:02.071426Z",
     "start_time": "2020-10-09T04:07:22.568Z"
    }
   },
   "outputs": [],
   "source": [
    "filename = './phone_prefix_loc.json'\n",
    "if False:\n",
    "    real_prefixes = {}\n",
    "    for area in area_prefixes:\n",
    "        time.sleep(2)\n",
    "        try:\n",
    "            zipped = get_zipped_lat_long(area)\n",
    "        except Exception:\n",
    "            zipped = np.NaN\n",
    "        real_prefixes[area] = zipped\n",
    "    with open('./phone_prefix_loc.json', 'w') as f:\n",
    "        f.write(json.dumps(real_prefixes))"
   ]
  },
  {
   "cell_type": "code",
   "execution_count": null,
   "metadata": {
    "ExecuteTime": {
     "end_time": "2020-10-09T04:08:02.072426Z",
     "start_time": "2020-10-09T04:07:22.570Z"
    }
   },
   "outputs": [],
   "source": [
    "with open('./phone_prefix_loc.json', 'r') as f:\n",
    "    real_prefixes = json.loads(f.read())"
   ]
  },
  {
   "cell_type": "code",
   "execution_count": null,
   "metadata": {
    "ExecuteTime": {
     "end_time": "2020-10-09T04:08:02.073426Z",
     "start_time": "2020-10-09T04:07:22.571Z"
    }
   },
   "outputs": [],
   "source": [
    "map_df['churn'] = map_df['churn'].map({True: 1, False: 0})"
   ]
  },
  {
   "cell_type": "code",
   "execution_count": null,
   "metadata": {
    "ExecuteTime": {
     "end_time": "2020-10-09T04:08:02.073426Z",
     "start_time": "2020-10-09T04:07:22.573Z"
    }
   },
   "outputs": [],
   "source": [
    "whole_round = lambda x: int(round(x/10.0)) * 10\n",
    "def get_churn_true(prefix):\n",
    "    try:\n",
    "        churn_true = round((map_df.loc[map_df[\"area_prefix\"] == prefix]['churn']\n",
    "                           .value_counts(normalize=True) * 100)[1])\n",
    "        if len(str(churn_true)) == 2:\n",
    "            return str(whole_round(churn_true))[0]\n",
    "        else:\n",
    "            return 1\n",
    "    except KeyError:\n",
    "        return 0\n",
    "\n",
    "for i in real_prefixes:\n",
    "    real_prefixes[i]['color'] = get_churn_true(i)"
   ]
  },
  {
   "cell_type": "code",
   "execution_count": null,
   "metadata": {
    "ExecuteTime": {
     "end_time": "2020-10-09T04:08:02.074426Z",
     "start_time": "2020-10-09T04:07:22.575Z"
    }
   },
   "outputs": [],
   "source": [
    "def get_set_size(prefix):\n",
    "    churn_true = map_df.loc[map_df[\"area_prefix\"] == prefix]\n",
    "    return len(churn_true)\n",
    "for i in real_prefixes:\n",
    "    real_prefixes[i]['size'] = get_set_size(i)"
   ]
  },
  {
   "cell_type": "code",
   "execution_count": null,
   "metadata": {
    "ExecuteTime": {
     "end_time": "2020-10-09T04:08:02.075426Z",
     "start_time": "2020-10-09T04:07:22.576Z"
    }
   },
   "outputs": [],
   "source": [
    "map_df = pd.DataFrame(real_prefixes).transpose()"
   ]
  },
  {
   "cell_type": "code",
   "execution_count": null,
   "metadata": {
    "ExecuteTime": {
     "end_time": "2020-10-09T04:08:02.076425Z",
     "start_time": "2020-10-09T04:07:22.578Z"
    }
   },
   "outputs": [],
   "source": [
    "size_colors = [\"#ff0000\", \"#e42000\", \"#c84000\",\n",
    "               \"#ad6000\", \"#928000\", \"#769f00\",\n",
    "               \"#5bbf00\", \"#3fdf00\", \"#24ff00\"]"
   ]
  },
  {
   "cell_type": "code",
   "execution_count": null,
   "metadata": {
    "ExecuteTime": {
     "end_time": "2020-10-09T04:08:02.076425Z",
     "start_time": "2020-10-09T04:07:22.582Z"
    }
   },
   "outputs": [],
   "source": [
    "location = (37.601176, -122.223392)\n",
    "map = folium.Map(location=location, zoom_start=9)\n",
    "color_map = ['#ff0000', '01ff0d']\n",
    "for idx, row in map_df.iterrows():\n",
    "    circle = folium.Circle(\n",
    "            location=(row['lat'], row['long']),\n",
    "            radius=1,\n",
    "            color=size_colors[int(row['color'])],\n",
    "            weight=row['size']**1.5,\n",
    "            opacity=(int(row['color'])*.2)\n",
    "        )\n",
    "    circle.add_to(map)\n",
    "map"
   ]
  },
  {
   "cell_type": "markdown",
   "metadata": {},
   "source": [
    "### Linear Regression ( Curiosity )\n",
    "> Killed cat, yadda yadda"
   ]
  },
  {
   "cell_type": "code",
   "execution_count": null,
   "metadata": {
    "ExecuteTime": {
     "end_time": "2020-10-09T04:08:02.077428Z",
     "start_time": "2020-10-09T04:07:22.586Z"
    },
    "scrolled": false
   },
   "outputs": [],
   "source": [
    "drop_cols=['state', 'phone_number']\n",
    "model = MLFrame(fresh_df).clean_col_names().drop(drop_cols, axis=1).model_and_plot('total_day_minutes')"
   ]
  }
 ],
 "metadata": {
  "kernelspec": {
   "display_name": "Python 3",
   "language": "python",
   "name": "python3"
  },
  "language_info": {
   "codemirror_mode": {
    "name": "ipython",
    "version": 3
   },
   "file_extension": ".py",
   "mimetype": "text/x-python",
   "name": "python",
   "nbconvert_exporter": "python",
   "pygments_lexer": "ipython3",
   "version": "3.6.9"
  },
  "toc": {
   "base_numbering": 1,
   "nav_menu": {},
   "number_sections": true,
   "sideBar": true,
   "skip_h1_title": false,
   "title_cell": "Table of Contents",
   "title_sidebar": "Contents",
   "toc_cell": true,
   "toc_position": {
    "height": "calc(100% - 180px)",
    "left": "10px",
    "top": "150px",
    "width": "349.078px"
   },
   "toc_section_display": true,
   "toc_window_display": true
  }
 },
 "nbformat": 4,
 "nbformat_minor": 2
}
